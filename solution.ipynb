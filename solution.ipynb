{
 "cells": [
  {
   "cell_type": "code",
   "execution_count": 1,
   "metadata": {},
   "outputs": [],
   "source": [
    "import pandas \n",
    "import os\n",
    "import duckdb"
   ]
  },
  {
   "cell_type": "code",
   "execution_count": 2,
   "metadata": {},
   "outputs": [
    {
     "data": {
      "text/plain": [
       "['.git',\n",
       " 'BEON Data Analyst Exercise.pdf',\n",
       " 'dataset',\n",
       " 'notebook.ipynb',\n",
       " 'nyc_airlines.csv',\n",
       " 'nyc_airports.csv',\n",
       " 'nyc_flights_fixed.csv',\n",
       " 'nyc_planes.csv',\n",
       " 'Sales_Product_Combined.csv',\n",
       " 'Untitled-1.ipynb']"
      ]
     },
     "execution_count": 2,
     "metadata": {},
     "output_type": "execute_result"
    }
   ],
   "source": [
    "os.listdir()"
   ]
  },
  {
   "cell_type": "code",
   "execution_count": 3,
   "metadata": {},
   "outputs": [],
   "source": [
    "airlines = pandas.read_csv('nyc_airlines.csv')\n",
    "airports = pandas.read_csv('nyc_airports.csv')\n",
    "flights = pandas.read_csv('nyc_flights_fixed.csv')\n",
    "planes = pandas.read_csv('nyc_planes.csv')"
   ]
  },
  {
   "cell_type": "code",
   "execution_count": 4,
   "metadata": {},
   "outputs": [
    {
     "data": {
      "text/html": [
       "<div>\n",
       "<style scoped>\n",
       "    .dataframe tbody tr th:only-of-type {\n",
       "        vertical-align: middle;\n",
       "    }\n",
       "\n",
       "    .dataframe tbody tr th {\n",
       "        vertical-align: top;\n",
       "    }\n",
       "\n",
       "    .dataframe thead th {\n",
       "        text-align: right;\n",
       "    }\n",
       "</style>\n",
       "<table border=\"1\" class=\"dataframe\">\n",
       "  <thead>\n",
       "    <tr style=\"text-align: right;\">\n",
       "      <th></th>\n",
       "      <th>carrier</th>\n",
       "      <th>name</th>\n",
       "    </tr>\n",
       "  </thead>\n",
       "  <tbody>\n",
       "    <tr>\n",
       "      <th>0</th>\n",
       "      <td>9E</td>\n",
       "      <td>Endeavor Air Inc.</td>\n",
       "    </tr>\n",
       "    <tr>\n",
       "      <th>1</th>\n",
       "      <td>AA</td>\n",
       "      <td>American Airlines Inc.</td>\n",
       "    </tr>\n",
       "    <tr>\n",
       "      <th>2</th>\n",
       "      <td>AS</td>\n",
       "      <td>Alaska Airlines Inc.</td>\n",
       "    </tr>\n",
       "    <tr>\n",
       "      <th>3</th>\n",
       "      <td>B6</td>\n",
       "      <td>JetBlue Airways</td>\n",
       "    </tr>\n",
       "    <tr>\n",
       "      <th>4</th>\n",
       "      <td>DL</td>\n",
       "      <td>Delta Air Lines Inc.</td>\n",
       "    </tr>\n",
       "  </tbody>\n",
       "</table>\n",
       "</div>"
      ],
      "text/plain": [
       "  carrier                    name\n",
       "0      9E       Endeavor Air Inc.\n",
       "1      AA  American Airlines Inc.\n",
       "2      AS    Alaska Airlines Inc.\n",
       "3      B6         JetBlue Airways\n",
       "4      DL    Delta Air Lines Inc."
      ]
     },
     "execution_count": 4,
     "metadata": {},
     "output_type": "execute_result"
    }
   ],
   "source": [
    "airlines.head()"
   ]
  },
  {
   "cell_type": "code",
   "execution_count": 5,
   "metadata": {},
   "outputs": [
    {
     "data": {
      "text/plain": [
       "(82, 2)"
      ]
     },
     "execution_count": 5,
     "metadata": {},
     "output_type": "execute_result"
    }
   ],
   "source": [
    "flights.query(\"origin == 'EWR'\")[['origin','dest']].drop_duplicates().shape"
   ]
  },
  {
   "cell_type": "code",
   "execution_count": 6,
   "metadata": {},
   "outputs": [
    {
     "data": {
      "text/plain": [
       "['IAH',\n",
       " 'ORD',\n",
       " 'FLL',\n",
       " 'SFO',\n",
       " 'LAS',\n",
       " 'PBI',\n",
       " 'MIA',\n",
       " 'ATL',\n",
       " 'PHX',\n",
       " 'MSP',\n",
       " 'LAX',\n",
       " 'IAD',\n",
       " 'CLT',\n",
       " 'SNA',\n",
       " 'TPA',\n",
       " 'RSW',\n",
       " 'SEA',\n",
       " 'DEN',\n",
       " 'MCO',\n",
       " 'BOS',\n",
       " 'JAX',\n",
       " 'CHS',\n",
       " 'MEM',\n",
       " 'DFW',\n",
       " 'MYR',\n",
       " 'JAC',\n",
       " 'RDU',\n",
       " 'DTW',\n",
       " 'SAN',\n",
       " 'MDW',\n",
       " 'CLE',\n",
       " 'EGE',\n",
       " 'DCA',\n",
       " 'AVL',\n",
       " 'STL',\n",
       " 'BUF',\n",
       " 'IND',\n",
       " 'MKE',\n",
       " 'PWM',\n",
       " 'SAV',\n",
       " 'SYR',\n",
       " 'CMH',\n",
       " 'ROC',\n",
       " 'BWI',\n",
       " 'BTV',\n",
       " 'DAY',\n",
       " 'HOU',\n",
       " 'ALB',\n",
       " 'BDL',\n",
       " 'SLC',\n",
       " 'PIT',\n",
       " 'HNL',\n",
       " 'MHT',\n",
       " 'MSN',\n",
       " 'GSO',\n",
       " 'CVG',\n",
       " 'AUS',\n",
       " 'RIC',\n",
       " 'GSP',\n",
       " 'GRR',\n",
       " 'MCI',\n",
       " 'BNA',\n",
       " 'SAT',\n",
       " 'SDF',\n",
       " 'PDX',\n",
       " 'OMA',\n",
       " 'TUL',\n",
       " 'TYS',\n",
       " 'OKC',\n",
       " 'PVD',\n",
       " 'DSM',\n",
       " 'ORF',\n",
       " 'XNA',\n",
       " 'MSY',\n",
       " 'CAE',\n",
       " 'PHL',\n",
       " 'HDN',\n",
       " 'BZN',\n",
       " 'MTJ',\n",
       " 'SBN',\n",
       " 'TVC',\n",
       " 'ANC']"
      ]
     },
     "execution_count": 6,
     "metadata": {},
     "output_type": "execute_result"
    }
   ],
   "source": [
    "list(flights.query(\"origin == 'EWR'\")[['origin','dest']].drop_duplicates()['dest'])"
   ]
  },
  {
   "cell_type": "code",
   "execution_count": null,
   "metadata": {},
   "outputs": [],
   "source": [
    "list(flights.query(\"origin == 'EWR'\")[['origin','dest']].drop_duplicates()['dest'])"
   ]
  },
  {
   "cell_type": "code",
   "execution_count": 8,
   "metadata": {},
   "outputs": [],
   "source": [
    "conn = duckdb.connect()"
   ]
  },
  {
   "cell_type": "code",
   "execution_count": 27,
   "metadata": {},
   "outputs": [
    {
     "data": {
      "text/plain": [
       "<Axes: xlabel='date', ylabel='distinct_dest'>"
      ]
     },
     "execution_count": 27,
     "metadata": {},
     "output_type": "execute_result"
    },
    {
     "data": {
      "image/png": "[encoded data removed]",
      "text/plain": [
       "<Figure size 1000x500 with 1 Axes>"
      ]
     },
     "metadata": {},
     "output_type": "display_data"
    }
   ],
   "source": [
    "df1 = conn.execute(\n",
    "\"\"\" select year, month, day, \n",
    "concat( day, '-', month, '-', year) as date,\n",
    "   count( distinct dest) as distinct_dest\n",
    "    from flights \n",
    "    where origin = 'EWR' \n",
    "    group by year, month, day\n",
    "\"\"\").df()\n",
    "\n",
    "# barplot \n",
    "import matplotlib.pyplot as plt\n",
    "import seaborn as sns\n",
    "\n",
    "plt.figure(figsize=(10, 5))\n",
    "sns.barplot(data=df1, x='date', y='distinct_dest')"
   ]
  },
  {
   "cell_type": "code",
   "execution_count": 24,
   "metadata": {},
   "outputs": [
    {
     "data": {
      "text/html": [
       "<div>\n",
       "<style scoped>\n",
       "    .dataframe tbody tr th:only-of-type {\n",
       "        vertical-align: middle;\n",
       "    }\n",
       "\n",
       "    .dataframe tbody tr th {\n",
       "        vertical-align: top;\n",
       "    }\n",
       "\n",
       "    .dataframe thead th {\n",
       "        text-align: right;\n",
       "    }\n",
       "</style>\n",
       "<table border=\"1\" class=\"dataframe\">\n",
       "  <thead>\n",
       "    <tr style=\"text-align: right;\">\n",
       "      <th></th>\n",
       "      <th>date_month</th>\n",
       "      <th>flights</th>\n",
       "    </tr>\n",
       "  </thead>\n",
       "  <tbody>\n",
       "    <tr>\n",
       "      <th>0</th>\n",
       "      <td>201305</td>\n",
       "      <td>9931.0</td>\n",
       "    </tr>\n",
       "  </tbody>\n",
       "</table>\n",
       "</div>"
      ],
      "text/plain": [
       "   date_month  flights\n",
       "0      201305   9931.0"
      ]
     },
     "execution_count": 24,
     "metadata": {},
     "output_type": "execute_result"
    }
   ],
   "source": [
    "conn.execute(\n",
    "\"\"\" with base as (select year, month, year *100 + month as date_month,\n",
    "    count(*) as flights\n",
    "    from flights \n",
    "    where origin = 'EWR' \n",
    "    group by year, month, day)\n",
    "\n",
    "    select date_month, sum(flights) as flights\n",
    "    from base\n",
    "    group by date_month\n",
    "    order by 2 desc\n",
    "    limit 1\n",
    "\"\"\").df()\n",
    "\n"
   ]
  },
  {
   "cell_type": "code",
   "execution_count": null,
   "metadata": {},
   "outputs": [],
   "source": [
    "conn.execute(\n",
    "\"\"\" with base as (select year, month, year *100 + month as date_month,\n",
    "    count(*) as flights\n",
    "    from flights \n",
    "    where origin = 'EWR' \n",
    "    group by year, month, day)\n",
    "\n",
    "    select date_month, sum(flights) as flights\n",
    "    from base\n",
    "    group by date_month\n",
    "    order by 2 desc\n",
    "    limit 1\n",
    "\"\"\").df()"
   ]
  },
  {
   "cell_type": "code",
   "execution_count": 52,
   "metadata": {},
   "outputs": [
    {
     "name": "stderr",
     "output_type": "stream",
     "text": [
      "C:\\Users\\Guilh\\AppData\\Local\\Temp\\ipykernel_15000\\1255816312.py:21: UserWarning: set_ticklabels() should only be used with a fixed number of ticks, i.e. after set_ticks() or using a FixedLocator.\n",
      "  ax.set_xticklabels(ax.get_xticklabels(), rotation=90)\n"
     ]
    },
    {
     "data": {
      "text/plain": [
       "[Text(0, 0, '20130100'),\n",
       " Text(1, 0, '20130200'),\n",
       " Text(2, 0, '20130300'),\n",
       " Text(3, 0, '20130400'),\n",
       " Text(4, 0, '20130500'),\n",
       " Text(5, 0, '20130600'),\n",
       " Text(6, 0, '20130700'),\n",
       " Text(7, 0, '20130800'),\n",
       " Text(8, 0, '20130900'),\n",
       " Text(9, 0, '20131000'),\n",
       " Text(10, 0, '20131100'),\n",
       " Text(11, 0, '20131200')]"
      ]
     },
     "execution_count": 52,
     "metadata": {},
     "output_type": "execute_result"
    },
    {
     "data": {
      "image/png": "[encoded data removed]",
      "text/plain": [
       "<Figure size 1000x500 with 1 Axes>"
      ]
     },
     "metadata": {},
     "output_type": "display_data"
    }
   ],
   "source": [
    "df2 = conn.execute(\n",
    "\"\"\" with base as (select \n",
    "    month, year * 10000 + 100 * month as date_month,\n",
    "    sum( case when dep_delay > 0 then dep_delay else 0 end) as total_dep_delay\n",
    "    from flights \n",
    "    where origin = 'EWR' \n",
    "    group by 1,2\n",
    "    order by 1 desc)\n",
    "\n",
    "    select date_month, total_dep_delay, sum( total_dep_delay) over (order by date_month) as cum_dep_delay\n",
    "    from base\n",
    "\"\"\").df()\n",
    "\n",
    "\n",
    "\n",
    "# create an matplotlib object\n",
    "fig, ax = plt.subplots(figsize=(10, 5))\n",
    "# add a barchart to the matplotlib object\n",
    "sns.barplot(data=df2, x='date_month', y='total_dep_delay', ax=ax)\n",
    "# rotate the x-axis labels\n",
    "ax.set_xticklabels(ax.get_xticklabels(), rotation=90)"
   ]
  },
  {
   "cell_type": "code",
   "execution_count": 1,
   "metadata": {},
   "outputs": [
    {
     "ename": "NameError",
     "evalue": "name 'conn' is not defined",
     "output_type": "error",
     "traceback": [
      "\u001b[1;31m---------------------------------------------------------------------------\u001b[0m",
      "\u001b[1;31mNameError\u001b[0m                                 Traceback (most recent call last)",
      "Cell \u001b[1;32mIn[1], line 1\u001b[0m\n\u001b[1;32m----> 1\u001b[0m df3 \u001b[38;5;241m=\u001b[39m \u001b[43mconn\u001b[49m\u001b[38;5;241m.\u001b[39mexecute(\n\u001b[0;32m      2\u001b[0m \u001b[38;5;124;03m\"\"\" with base as (select *\u001b[39;00m\n\u001b[0;32m      3\u001b[0m \u001b[38;5;124;03m    from flights \u001b[39;00m\n\u001b[0;32m      4\u001b[0m \u001b[38;5;124;03m    where origin = 'EWR')\u001b[39;00m\n\u001b[0;32m      5\u001b[0m \n\u001b[0;32m      6\u001b[0m \u001b[38;5;124;03m    select *\u001b[39;00m\n\u001b[0;32m      7\u001b[0m \u001b[38;5;124;03m    from base\u001b[39;00m\n\u001b[0;32m      8\u001b[0m \u001b[38;5;124;03m\"\"\"\u001b[39;00m)\u001b[38;5;241m.\u001b[39mdf()\n\u001b[0;32m     10\u001b[0m df3\n",
      "\u001b[1;31mNameError\u001b[0m: name 'conn' is not defined"
     ]
    }
   ],
   "source": [
    "df3 = conn.execute(\n",
    "\"\"\" with base as (select *\n",
    "    from flights \n",
    "    where origin = 'EWR')\n",
    "\n",
    "    select *\n",
    "    from base\n",
    "\"\"\").df()\n",
    "\n",
    "df3"
   ]
  },
  {
   "cell_type": "code",
   "execution_count": null,
   "metadata": {},
   "outputs": [
    {
     "data": {
      "text/html": [
       "<div>\n",
       "<style scoped>\n",
       "    .dataframe tbody tr th:only-of-type {\n",
       "        vertical-align: middle;\n",
       "    }\n",
       "\n",
       "    .dataframe tbody tr th {\n",
       "        vertical-align: top;\n",
       "    }\n",
       "\n",
       "    .dataframe thead th {\n",
       "        text-align: right;\n",
       "    }\n",
       "</style>\n",
       "<table border=\"1\" class=\"dataframe\">\n",
       "  <thead>\n",
       "    <tr style=\"text-align: right;\">\n",
       "      <th></th>\n",
       "      <th>airline_name</th>\n",
       "      <th>flights</th>\n",
       "    </tr>\n",
       "  </thead>\n",
       "  <tbody>\n",
       "    <tr>\n",
       "      <th>0</th>\n",
       "      <td>United Air Lines Inc.</td>\n",
       "      <td>43983</td>\n",
       "    </tr>\n",
       "    <tr>\n",
       "      <th>1</th>\n",
       "      <td>ExpressJet Airlines Inc.</td>\n",
       "      <td>43939</td>\n",
       "    </tr>\n",
       "    <tr>\n",
       "      <th>2</th>\n",
       "      <td>Southwest Airlines Co.</td>\n",
       "      <td>6165</td>\n",
       "    </tr>\n",
       "    <tr>\n",
       "      <th>3</th>\n",
       "      <td>JetBlue Airways</td>\n",
       "      <td>6086</td>\n",
       "    </tr>\n",
       "    <tr>\n",
       "      <th>4</th>\n",
       "      <td>US Airways Inc.</td>\n",
       "      <td>4297</td>\n",
       "    </tr>\n",
       "    <tr>\n",
       "      <th>5</th>\n",
       "      <td>Delta Air Lines Inc.</td>\n",
       "      <td>4237</td>\n",
       "    </tr>\n",
       "    <tr>\n",
       "      <th>6</th>\n",
       "      <td>Virgin America</td>\n",
       "      <td>1566</td>\n",
       "    </tr>\n",
       "    <tr>\n",
       "      <th>7</th>\n",
       "      <td>Endeavor Air Inc.</td>\n",
       "      <td>1200</td>\n",
       "    </tr>\n",
       "    <tr>\n",
       "      <th>8</th>\n",
       "      <td>American Airlines Inc.</td>\n",
       "      <td>1145</td>\n",
       "    </tr>\n",
       "    <tr>\n",
       "      <th>9</th>\n",
       "      <td>Alaska Airlines Inc.</td>\n",
       "      <td>714</td>\n",
       "    </tr>\n",
       "    <tr>\n",
       "      <th>10</th>\n",
       "      <td>Envoy Air</td>\n",
       "      <td>47</td>\n",
       "    </tr>\n",
       "    <tr>\n",
       "      <th>11</th>\n",
       "      <td>SkyWest Airlines Inc.</td>\n",
       "      <td>6</td>\n",
       "    </tr>\n",
       "  </tbody>\n",
       "</table>\n",
       "</div>"
      ],
      "text/plain": [
       "                airline_name  flights\n",
       "0      United Air Lines Inc.    43983\n",
       "1   ExpressJet Airlines Inc.    43939\n",
       "2     Southwest Airlines Co.     6165\n",
       "3            JetBlue Airways     6086\n",
       "4            US Airways Inc.     4297\n",
       "5       Delta Air Lines Inc.     4237\n",
       "6             Virgin America     1566\n",
       "7          Endeavor Air Inc.     1200\n",
       "8     American Airlines Inc.     1145\n",
       "9       Alaska Airlines Inc.      714\n",
       "10                 Envoy Air       47\n",
       "11     SkyWest Airlines Inc.        6"
      ]
     },
     "execution_count": 66,
     "metadata": {},
     "output_type": "execute_result"
    }
   ],
   "source": [
    "conn.execute(\n",
    "\"\"\" with base as (select f.*, a.name as airline_name\n",
    "    from flights f\n",
    "    inner join airlines a\n",
    "    on a.carrier = f.carrier\n",
    "    where f.origin = 'EWR')\n",
    "\n",
    "    select airline_name, count(*) as flights\n",
    "    from base\n",
    "    group by airline_name\n",
    "    order by 2 desc\n",
    "\"\"\").df()"
   ]
  },
  {
   "cell_type": "code",
   "execution_count": null,
   "metadata": {},
   "outputs": [
    {
     "data": {
      "text/html": [
       "<div>\n",
       "<style scoped>\n",
       "    .dataframe tbody tr th:only-of-type {\n",
       "        vertical-align: middle;\n",
       "    }\n",
       "\n",
       "    .dataframe tbody tr th {\n",
       "        vertical-align: top;\n",
       "    }\n",
       "\n",
       "    .dataframe thead th {\n",
       "        text-align: right;\n",
       "    }\n",
       "</style>\n",
       "<table border=\"1\" class=\"dataframe\">\n",
       "  <thead>\n",
       "    <tr style=\"text-align: right;\">\n",
       "      <th></th>\n",
       "      <th>airline_name</th>\n",
       "      <th>flights</th>\n",
       "      <th>total_flights</th>\n",
       "    </tr>\n",
       "  </thead>\n",
       "  <tbody>\n",
       "    <tr>\n",
       "      <th>0</th>\n",
       "      <td>United Air Lines Inc.</td>\n",
       "      <td>43983</td>\n",
       "      <td>38.79</td>\n",
       "    </tr>\n",
       "    <tr>\n",
       "      <th>1</th>\n",
       "      <td>ExpressJet Airlines Inc.</td>\n",
       "      <td>43939</td>\n",
       "      <td>38.75</td>\n",
       "    </tr>\n",
       "    <tr>\n",
       "      <th>2</th>\n",
       "      <td>Southwest Airlines Co.</td>\n",
       "      <td>6165</td>\n",
       "      <td>5.44</td>\n",
       "    </tr>\n",
       "    <tr>\n",
       "      <th>3</th>\n",
       "      <td>JetBlue Airways</td>\n",
       "      <td>6086</td>\n",
       "      <td>5.37</td>\n",
       "    </tr>\n",
       "    <tr>\n",
       "      <th>4</th>\n",
       "      <td>US Airways Inc.</td>\n",
       "      <td>4297</td>\n",
       "      <td>3.79</td>\n",
       "    </tr>\n",
       "    <tr>\n",
       "      <th>5</th>\n",
       "      <td>Delta Air Lines Inc.</td>\n",
       "      <td>4237</td>\n",
       "      <td>3.74</td>\n",
       "    </tr>\n",
       "    <tr>\n",
       "      <th>6</th>\n",
       "      <td>Virgin America</td>\n",
       "      <td>1566</td>\n",
       "      <td>1.38</td>\n",
       "    </tr>\n",
       "    <tr>\n",
       "      <th>7</th>\n",
       "      <td>Endeavor Air Inc.</td>\n",
       "      <td>1200</td>\n",
       "      <td>1.06</td>\n",
       "    </tr>\n",
       "    <tr>\n",
       "      <th>8</th>\n",
       "      <td>American Airlines Inc.</td>\n",
       "      <td>1145</td>\n",
       "      <td>1.01</td>\n",
       "    </tr>\n",
       "    <tr>\n",
       "      <th>9</th>\n",
       "      <td>Alaska Airlines Inc.</td>\n",
       "      <td>714</td>\n",
       "      <td>0.63</td>\n",
       "    </tr>\n",
       "    <tr>\n",
       "      <th>10</th>\n",
       "      <td>Envoy Air</td>\n",
       "      <td>47</td>\n",
       "      <td>0.04</td>\n",
       "    </tr>\n",
       "    <tr>\n",
       "      <th>11</th>\n",
       "      <td>SkyWest Airlines Inc.</td>\n",
       "      <td>6</td>\n",
       "      <td>0.01</td>\n",
       "    </tr>\n",
       "  </tbody>\n",
       "</table>\n",
       "</div>"
      ],
      "text/plain": [
       "                airline_name  flights  total_flights\n",
       "0      United Air Lines Inc.    43983          38.79\n",
       "1   ExpressJet Airlines Inc.    43939          38.75\n",
       "2     Southwest Airlines Co.     6165           5.44\n",
       "3            JetBlue Airways     6086           5.37\n",
       "4            US Airways Inc.     4297           3.79\n",
       "5       Delta Air Lines Inc.     4237           3.74\n",
       "6             Virgin America     1566           1.38\n",
       "7          Endeavor Air Inc.     1200           1.06\n",
       "8     American Airlines Inc.     1145           1.01\n",
       "9       Alaska Airlines Inc.      714           0.63\n",
       "10                 Envoy Air       47           0.04\n",
       "11     SkyWest Airlines Inc.        6           0.01"
      ]
     },
     "execution_count": 70,
     "metadata": {},
     "output_type": "execute_result"
    }
   ],
   "source": [
    "conn.execute(\n",
    "\"\"\" with base as (select f.*, a.name as airline_name\n",
    "    from flights f\n",
    "    inner join airlines a\n",
    "    on a.carrier = f.carrier\n",
    "    where f.origin = 'EWR'),\n",
    "\n",
    "    ranking as (\n",
    "    select airline_name, count(*) as flights\n",
    "    from base\n",
    "    group by airline_name\n",
    "    order by 2 desc)\n",
    "\n",
    "    select airline_name, flights, round(100 * flights/ sum(flights) over () ,2) as total_flights\n",
    "    from ranking\n",
    "\"\"\").df()"
   ]
  }
 ],
 "metadata": {
  "kernelspec": {
   "display_name": "Python 3",
   "language": "python",
   "name": "python3"
  },
  "language_info": {
   "codemirror_mode": {
    "name": "ipython",
    "version": 3
   },
   "file_extension": ".py",
   "mimetype": "text/x-python",
   "name": "python",
   "nbconvert_exporter": "python",
   "pygments_lexer": "ipython3",
   "version": "3.11.5"
  }
 },
 "nbformat": 4,
 "nbformat_minor": 2
}
